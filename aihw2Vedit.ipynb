{
 "cells": [
  {
   "cell_type": "code",
   "execution_count": 1,
   "metadata": {},
   "outputs": [],
   "source": [
    "\n",
    "import tensorflow as tf\n",
    "import numpy as np\n",
    "import matplotlib.pyplot as plt\n",
    "%matplotlib inline\n",
    "import time\n",
    "import os\n",
    "import cv2"
   ]
  },
  {
   "cell_type": "code",
   "execution_count": 2,
   "metadata": {},
   "outputs": [
    {
     "name": "stdout",
     "output_type": "stream",
     "text": [
      "WARNING:tensorflow:From <ipython-input-2-37adf088ce13>:2: read_data_sets (from tensorflow.contrib.learn.python.learn.datasets.mnist) is deprecated and will be removed in a future version.\n",
      "Instructions for updating:\n",
      "Please use alternatives such as official/mnist/dataset.py from tensorflow/models.\n",
      "WARNING:tensorflow:From C:\\Users\\mbl-ata\\Anaconda3\\envs\\tensorflow\\lib\\site-packages\\tensorflow\\contrib\\learn\\python\\learn\\datasets\\mnist.py:260: maybe_download (from tensorflow.contrib.learn.python.learn.datasets.base) is deprecated and will be removed in a future version.\n",
      "Instructions for updating:\n",
      "Please write your own downloading logic.\n",
      "WARNING:tensorflow:From C:\\Users\\mbl-ata\\Anaconda3\\envs\\tensorflow\\lib\\site-packages\\tensorflow\\contrib\\learn\\python\\learn\\datasets\\mnist.py:262: extract_images (from tensorflow.contrib.learn.python.learn.datasets.mnist) is deprecated and will be removed in a future version.\n",
      "Instructions for updating:\n",
      "Please use tf.data to implement this functionality.\n",
      "Extracting data/MNIST/train-images-idx3-ubyte.gz\n",
      "WARNING:tensorflow:From C:\\Users\\mbl-ata\\Anaconda3\\envs\\tensorflow\\lib\\site-packages\\tensorflow\\contrib\\learn\\python\\learn\\datasets\\mnist.py:267: extract_labels (from tensorflow.contrib.learn.python.learn.datasets.mnist) is deprecated and will be removed in a future version.\n",
      "Instructions for updating:\n",
      "Please use tf.data to implement this functionality.\n",
      "Extracting data/MNIST/train-labels-idx1-ubyte.gz\n",
      "WARNING:tensorflow:From C:\\Users\\mbl-ata\\Anaconda3\\envs\\tensorflow\\lib\\site-packages\\tensorflow\\contrib\\learn\\python\\learn\\datasets\\mnist.py:110: dense_to_one_hot (from tensorflow.contrib.learn.python.learn.datasets.mnist) is deprecated and will be removed in a future version.\n",
      "Instructions for updating:\n",
      "Please use tf.one_hot on tensors.\n",
      "Extracting data/MNIST/t10k-images-idx3-ubyte.gz\n",
      "Extracting data/MNIST/t10k-labels-idx1-ubyte.gz\n",
      "WARNING:tensorflow:From C:\\Users\\mbl-ata\\Anaconda3\\envs\\tensorflow\\lib\\site-packages\\tensorflow\\contrib\\learn\\python\\learn\\datasets\\mnist.py:290: DataSet.__init__ (from tensorflow.contrib.learn.python.learn.datasets.mnist) is deprecated and will be removed in a future version.\n",
      "Instructions for updating:\n",
      "Please use alternatives such as official/mnist/dataset.py from tensorflow/models.\n"
     ]
    }
   ],
   "source": [
    "from tensorflow.examples.tutorials.mnist import input_data\n",
    "data = input_data.read_data_sets('data/MNIST/', one_hot=True)"
   ]
  },
  {
   "cell_type": "code",
   "execution_count": 3,
   "metadata": {},
   "outputs": [
    {
     "name": "stdout",
     "output_type": "stream",
     "text": [
      "Size of:\n",
      "- Training-set:\t\t55000\n",
      "- Test-set:\t\t10000\n",
      "- Validation-set:\t5000\n"
     ]
    }
   ],
   "source": [
    "print(\"Size of:\")\n",
    "print(\"- Training-set:\\t\\t{}\".format(len(data.train.labels)))\n",
    "print(\"- Test-set:\\t\\t{}\".format(len(data.test.labels)))\n",
    "print(\"- Validation-set:\\t{}\".format(len(data.validation.labels)))"
   ]
  },
  {
   "cell_type": "code",
   "execution_count": 4,
   "metadata": {},
   "outputs": [
    {
     "name": "stdout",
     "output_type": "stream",
     "text": [
      "WARNING:tensorflow:From <ipython-input-4-8362a9fb3a3c>:8: calling argmax (from tensorflow.python.ops.math_ops) with dimension is deprecated and will be removed in a future version.\n",
      "Instructions for updating:\n",
      "Use the `axis` argument instead\n"
     ]
    }
   ],
   "source": [
    "# Placeholder variable for the input images\n",
    "x = tf.placeholder(tf.float32, shape=[None, 28*28], name='X')\n",
    "# Reshape it into [num_images, img_height, img_width, num_channels]\n",
    "x_image = tf.reshape(x, [-1, 28, 28, 1])\n",
    "\n",
    "# Placeholder variable for the true labels associated with the images\n",
    "y_true = tf.placeholder(tf.float32, shape=[None, 10], name='y_true')\n",
    "y_true_cls = tf.argmax(y_true, dimension=1)"
   ]
  },
  {
   "cell_type": "code",
   "execution_count": 5,
   "metadata": {},
   "outputs": [],
   "source": [
    "def new_conv_layer(input, num_input_channels, filter_size, num_filters, name):\n",
    "    \n",
    "    with tf.variable_scope(name) as scope:\n",
    "        # Shape of the filter-weights for the convolution\n",
    "        shape = [filter_size, filter_size, num_input_channels, num_filters]\n",
    "\n",
    "        # Create new weights (filters) with the given shape\n",
    "        weights = tf.Variable(tf.truncated_normal(shape, stddev=0.05))\n",
    "\n",
    "        # Create new biases, one for each filter\n",
    "        biases = tf.Variable(tf.constant(0.05, shape=[num_filters]))\n",
    "        \n",
    "        print(input)\n",
    "        print(weights)\n",
    "        # TensorFlow operation for convolution\n",
    "        layer = tf.nn.conv2d(input=input, filter=weights, strides=[1, 1, 1, 1], padding='SAME')\n",
    "        \n",
    "        # Add the biases to the results of the convolution.\n",
    "        layer += biases\n",
    "        \n",
    "        return layer, weights"
   ]
  },
  {
   "cell_type": "code",
   "execution_count": 6,
   "metadata": {},
   "outputs": [],
   "source": [
    "def new_pool_layer(input, name):\n",
    "    \n",
    "    with tf.variable_scope(name) as scope:\n",
    "        # TensorFlow operation for convolution\n",
    "        layer = tf.nn.max_pool(value=input, ksize=[1, 2, 2, 1], strides=[1, 2, 2, 1], padding='SAME')\n",
    "        \n",
    "        return layer"
   ]
  },
  {
   "cell_type": "code",
   "execution_count": 7,
   "metadata": {},
   "outputs": [],
   "source": [
    "def new_relu_layer(input, name):\n",
    "    \n",
    "    with tf.variable_scope(name) as scope:\n",
    "        # TensorFlow operation for convolution\n",
    "        layer = tf.nn.relu(input)\n",
    "        \n",
    "        return layer"
   ]
  },
  {
   "cell_type": "code",
   "execution_count": 8,
   "metadata": {},
   "outputs": [],
   "source": [
    "def new_fc_layer(input, num_inputs, num_outputs, name):\n",
    "    \n",
    "    with tf.variable_scope(name) as scope:\n",
    "\n",
    "        # Create new weights and biases.\n",
    "        weights = tf.Variable(tf.truncated_normal([num_inputs, num_outputs], stddev=0.05))\n",
    "        biases = tf.Variable(tf.constant(0.05, shape=[num_outputs]))\n",
    "        \n",
    "        # Multiply the input and weights, and then add the bias-values.\n",
    "        layer = tf.matmul(input, weights) + biases\n",
    "        \n",
    "        return layer"
   ]
  },
  {
   "cell_type": "code",
   "execution_count": 9,
   "metadata": {},
   "outputs": [
    {
     "name": "stdout",
     "output_type": "stream",
     "text": [
      "WARNING:tensorflow:From C:\\Users\\mbl-ata\\Anaconda3\\envs\\tensorflow\\lib\\site-packages\\tensorflow\\python\\framework\\op_def_library.py:263: colocate_with (from tensorflow.python.framework.ops) is deprecated and will be removed in a future version.\n",
      "Instructions for updating:\n",
      "Colocations handled automatically by placer.\n",
      "Tensor(\"Reshape:0\", shape=(?, 28, 28, 1), dtype=float32)\n",
      "<tf.Variable 'conv1/Variable:0' shape=(5, 5, 1, 32) dtype=float32_ref>\n",
      "Tensor(\"relu1/Relu:0\", shape=(?, 14, 14, 32), dtype=float32)\n",
      "<tf.Variable 'conv2/Variable:0' shape=(5, 5, 32, 64) dtype=float32_ref>\n",
      "Tensor(\"relu2/Relu:0\", shape=(?, 7, 7, 64), dtype=float32)\n",
      "<tf.Variable 'conv3/Variable:0' shape=(10, 10, 64, 128) dtype=float32_ref>\n"
     ]
    }
   ],
   "source": [
    "# # Convolutional Layer 1\n",
    "# layer_conv1, weights_conv1 = new_conv_layer(input=x_image, num_input_channels=1, filter_size=5, num_filters=6, name =\"conv1\")\n",
    "\n",
    "# # Pooling Layer 1\n",
    "# layer_pool1 = new_pool_layer(layer_conv1, name=\"pool1\")\n",
    "\n",
    "# # RelU layer 1\n",
    "# layer_relu1 = new_relu_layer(layer_pool1, name=\"relu1\")\n",
    "\n",
    "# # Convolutional Layer 2\n",
    "# layer_conv2, weights_conv2 = new_conv_layer(input=layer_relu1, num_input_channels=6, filter_size=5, num_filters=16, name= \"conv2\")\n",
    "\n",
    "# # Pooling Layer 2\n",
    "# layer_pool2 = new_pool_layer(layer_conv2, name=\"pool2\")\n",
    "\n",
    "# # RelU layer 2\n",
    "# layer_relu2 = new_relu_layer(layer_pool2, name=\"relu2\")\n",
    "\n",
    "# # Flatten Layer\n",
    "# num_features = layer_relu2.get_shape()[1:4].num_elements()\n",
    "# layer_flat = tf.reshape(layer_relu2, [-1, num_features])\n",
    "\n",
    "# # Fully-Connected Layer 1\n",
    "# layer_fc1 = new_fc_layer(layer_flat, num_inputs=num_features, num_outputs=128, name=\"fc1\")\n",
    "\n",
    "# # RelU layer 3\n",
    "# layer_relu3 = new_relu_layer(layer_fc1, name=\"relu3\")\n",
    "\n",
    "# # Fully-Connected Layer 2\n",
    "# layer_fc2 = new_fc_layer(input=layer_relu3, num_inputs=128, num_outputs=10, name=\"fc2\")\n",
    "\n",
    "### ---\n",
    "# Convolutional Layer 1\n",
    "layer_conv1, weights_conv1 = new_conv_layer(input=x_image, num_input_channels=1, filter_size=5, num_filters=32, name =\"conv1\")\n",
    "\n",
    "# Pooling Layer 1\n",
    "layer_pool1 = new_pool_layer(layer_conv1, name=\"pool1\")\n",
    "\n",
    "# RelU layer 1\n",
    "layer_relu1 = new_relu_layer(layer_pool1, name=\"relu1\")\n",
    "\n",
    "#Convolutional Layer 2\n",
    "layer_conv2, weights_conv2 = new_conv_layer(input=layer_relu1, num_input_channels=32, filter_size=5, num_filters=64, name= \"conv2\")\n",
    "\n",
    "# Pooling Layer 2\n",
    "layer_pool2 = new_pool_layer(layer_conv2, name=\"pool2\")\n",
    "\n",
    "# RelU layer 2\n",
    "layer_relu2 = new_relu_layer(layer_pool2, name=\"relu2\")\n",
    "\n",
    "# Convolutional Layer 3\n",
    "layer_conv3, weights_conv3 = new_conv_layer(input=layer_relu2, num_input_channels=64, filter_size=10, num_filters=128, name= \"conv3\")\n",
    "\n",
    "# Pooling Layer 3\n",
    "layer_pool3 = new_pool_layer(layer_conv3, name=\"pool3\")\n",
    "\n",
    "# RelU layer 3\n",
    "layer_relu3 = new_relu_layer(layer_pool3, name=\"relu3\")\n",
    "\n",
    "# Flatten Layer\n",
    "num_features = layer_relu3.get_shape()[1:4].num_elements()\n",
    "layer_flat = tf.reshape(layer_relu3, [-1, num_features])\n",
    "\n",
    "# Fully-Connected Layer 1\n",
    "layer_fc1 = new_fc_layer(layer_flat, num_inputs=num_features, num_outputs=128, name=\"fc1\")\n",
    "\n",
    "# RelU layer 3\n",
    "layer_relu4 = new_relu_layer(layer_fc1, name=\"relu4\")\n",
    "\n",
    "# Fully-Connected Layer 2\n",
    "layer_fc2 = new_fc_layer(input=layer_relu4, num_inputs=128, num_outputs=10, name=\"fc2\")\n",
    "\n",
    "# # RelU layer 3\n",
    "# layer_relu5 = new_relu_layer(layer_fc2, name=\"relu5\")\n",
    "\n",
    "# # Fully-Connected Layer 2\n",
    "# layer_fc3 = new_fc_layer(input=layer_relu5, num_inputs=15, num_outputs=15, name=\"fc3\")\n",
    "\n"
   ]
  },
  {
   "cell_type": "code",
   "execution_count": 10,
   "metadata": {},
   "outputs": [],
   "source": [
    "# Use Softmax function to normalize the output\n",
    "with tf.variable_scope(\"Softmax\"):\n",
    "    y_pred = tf.nn.softmax(layer_fc2)\n",
    "    y_pred_cls = tf.argmax(y_pred, dimension=1)"
   ]
  },
  {
   "cell_type": "code",
   "execution_count": 11,
   "metadata": {},
   "outputs": [
    {
     "name": "stdout",
     "output_type": "stream",
     "text": [
      "WARNING:tensorflow:From <ipython-input-11-0fd2322922db>:3: softmax_cross_entropy_with_logits (from tensorflow.python.ops.nn_ops) is deprecated and will be removed in a future version.\n",
      "Instructions for updating:\n",
      "\n",
      "Future major versions of TensorFlow will allow gradients to flow\n",
      "into the labels input on backprop by default.\n",
      "\n",
      "See `tf.nn.softmax_cross_entropy_with_logits_v2`.\n",
      "\n"
     ]
    }
   ],
   "source": [
    "# Use Cross entropy cost function\n",
    "with tf.name_scope(\"cross_ent\"):\n",
    "    cross_entropy = tf.nn.softmax_cross_entropy_with_logits(logits=layer_fc2, labels=y_true)\n",
    "    cost = tf.reduce_mean(cross_entropy)"
   ]
  },
  {
   "cell_type": "code",
   "execution_count": 12,
   "metadata": {},
   "outputs": [],
   "source": [
    "# Use Adam Optimizer\n",
    "with tf.name_scope(\"optimizer\"):\n",
    "    optimizer = tf.train.AdamOptimizer(learning_rate=1e-4).minimize(cost)"
   ]
  },
  {
   "cell_type": "code",
   "execution_count": 13,
   "metadata": {},
   "outputs": [],
   "source": [
    "\n",
    "# Accuracy\n",
    "with tf.name_scope(\"accuracy\"):\n",
    "    correct_prediction = tf.equal(y_pred_cls, y_true_cls)\n",
    "    accuracy = tf.reduce_mean(tf.cast(correct_prediction, tf.float32))"
   ]
  },
  {
   "cell_type": "code",
   "execution_count": 14,
   "metadata": {},
   "outputs": [],
   "source": [
    "# Trainable variables\n",
    "vart_list = tf.trainable_variables()"
   ]
  },
  {
   "cell_type": "code",
   "execution_count": 15,
   "metadata": {},
   "outputs": [],
   "source": [
    "# Initialize the FileWriter\n",
    "writer = tf.summary.FileWriter(\"Training_FileWriter/\")\n",
    "writer1 = tf.summary.FileWriter(\"Validation_FileWriter/\")"
   ]
  },
  {
   "cell_type": "code",
   "execution_count": 16,
   "metadata": {},
   "outputs": [
    {
     "name": "stdout",
     "output_type": "stream",
     "text": [
      "INFO:tensorflow:Summary name conv1/Variable:0 is illegal; using conv1/Variable_0 instead.\n",
      "INFO:tensorflow:Summary name conv1/Variable_1:0 is illegal; using conv1/Variable_1_0 instead.\n",
      "INFO:tensorflow:Summary name conv2/Variable:0 is illegal; using conv2/Variable_0 instead.\n",
      "INFO:tensorflow:Summary name conv2/Variable_1:0 is illegal; using conv2/Variable_1_0 instead.\n",
      "INFO:tensorflow:Summary name conv3/Variable:0 is illegal; using conv3/Variable_0 instead.\n",
      "INFO:tensorflow:Summary name conv3/Variable_1:0 is illegal; using conv3/Variable_1_0 instead.\n",
      "INFO:tensorflow:Summary name fc1/Variable:0 is illegal; using fc1/Variable_0 instead.\n",
      "INFO:tensorflow:Summary name fc1/Variable_1:0 is illegal; using fc1/Variable_1_0 instead.\n",
      "INFO:tensorflow:Summary name fc2/Variable:0 is illegal; using fc2/Variable_0 instead.\n",
      "INFO:tensorflow:Summary name fc2/Variable_1:0 is illegal; using fc2/Variable_1_0 instead.\n"
     ]
    }
   ],
   "source": [
    "# Add the cost and accuracy to summary\n",
    "tf.summary.scalar('loss', cost)\n",
    "tf.summary.scalar('accuracy', accuracy)\n",
    "\n",
    "# Add the trainable variables to summary \n",
    "for var in vart_list:\n",
    "    tf.summary.histogram(var.name, var)\n",
    "\n",
    "# Merge all summaries together\n",
    "merged_summary = tf.summary.merge_all()"
   ]
  },
  {
   "cell_type": "code",
   "execution_count": 17,
   "metadata": {},
   "outputs": [],
   "source": [
    "num_epochs = 3\n",
    "batch_size = 100"
   ]
  },
  {
   "cell_type": "code",
   "execution_count": 18,
   "metadata": {},
   "outputs": [
    {
     "name": "stdout",
     "output_type": "stream",
     "text": [
      "Big loop: 1 Steps 50,Training Accuracy:\t0.509\n",
      "Big loop: 1 Steps 100,Training Accuracy:\t0.657\n",
      "Big loop: 1 Steps 150,Training Accuracy:\t0.730\n",
      "Big loop: 1 Steps 200,Training Accuracy:\t0.774\n",
      "Big loop: 1 Steps 250,Training Accuracy:\t0.803\n",
      "Big loop: 1 Steps 300,Training Accuracy:\t0.824\n",
      "Big loop: 1 Steps 350,Training Accuracy:\t0.840\n",
      "Big loop: 1 Steps 400,Training Accuracy:\t0.853\n",
      "Big loop: 1 Steps 450,Training Accuracy:\t0.863\n",
      "Big loop: 1 Steps 500,Training Accuracy:\t0.872\n",
      "Big loop: 1 Steps 550,Training Accuracy:\t0.879\n",
      "Big loop: 2 Steps 600,Training Accuracy:\t0.959\n",
      "Big loop: 2 Steps 650,Training Accuracy:\t0.961\n",
      "Big loop: 2 Steps 700,Training Accuracy:\t0.963\n",
      "Big loop: 2 Steps 750,Training Accuracy:\t0.962\n",
      "Big loop: 2 Steps 800,Training Accuracy:\t0.963\n",
      "Big loop: 2 Steps 850,Training Accuracy:\t0.964\n",
      "Big loop: 2 Steps 900,Training Accuracy:\t0.965\n",
      "Big loop: 2 Steps 950,Training Accuracy:\t0.965\n",
      "Big loop: 2 Steps 1000,Training Accuracy:\t0.966\n",
      "Big loop: 2 Steps 1050,Training Accuracy:\t0.967\n",
      "Big loop: 2 Steps 1100,Training Accuracy:\t0.968\n",
      "Big loop: 3 Steps 1150,Training Accuracy:\t0.977\n",
      "Big loop: 3 Steps 1200,Training Accuracy:\t0.979\n",
      "Big loop: 3 Steps 1250,Training Accuracy:\t0.978\n",
      "Big loop: 3 Steps 1300,Training Accuracy:\t0.978\n",
      "Big loop: 3 Steps 1350,Training Accuracy:\t0.979\n",
      "Big loop: 3 Steps 1400,Training Accuracy:\t0.978\n",
      "Big loop: 3 Steps 1450,Training Accuracy:\t0.978\n",
      "Big loop: 3 Steps 1500,Training Accuracy:\t0.978\n",
      "Big loop: 3 Steps 1550,Training Accuracy:\t0.978\n",
      "Big loop: 3 Steps 1600,Training Accuracy:\t0.978\n",
      "Big loop: 3 Steps 1650,Training Accuracy:\t0.978\n",
      "Testing Accuracy:\t0.9828000068664551\n"
     ]
    }
   ],
   "source": [
    "with tf.Session() as sess:\n",
    "    # Initialize all variables\n",
    "    sess.run(tf.global_variables_initializer())\n",
    "    \n",
    "    # Add the model graph to TensorBoard\n",
    "    writer.add_graph(sess.graph)\n",
    "    \n",
    "    batch_count = 0\n",
    "    # Loop over number of epochs\n",
    "    for epoch in range(num_epochs):\n",
    "        \n",
    "        start_time = time.time()\n",
    "        train_accuracy = 0\n",
    "        num_batch = int(len(data.train.labels)/batch_size)\n",
    "        for batch in range(0, num_batch):\n",
    "            \n",
    "            # Get a batch of images and labels\n",
    "            x_batch, y_true_batch = data.train.next_batch(batch_size)\n",
    "            \n",
    "            # Put the batch into a dict with the proper names for placeholder variables\n",
    "            feed_dict_train = {x: x_batch, y_true: y_true_batch}\n",
    "            \n",
    "            # Run the optimizer using this batch of training data.\n",
    "            sess.run(optimizer, feed_dict=feed_dict_train)\n",
    "            \n",
    "            # Calculate the accuracy on the batch of training data\n",
    "            #train_accuracy += sess.run(accuracy, feed_dict=feed_dict_train)\n",
    "            train_accuracy += sess.run(accuracy, feed_dict=feed_dict_train)\n",
    "            temp_train_accuracy = train_accuracy / (batch+1)\n",
    "            batch_count += 1\n",
    "            if((batch_count % 50) == 0):\n",
    "                print(\"Big loop: \"+str(epoch+1)+\" Steps \"+str(batch_count)+\",Training Accuracy:\\t{0:.3f}\".format(temp_train_accuracy))\n",
    "            \n",
    "            # Generate summary with the current batch of data and write to file\n",
    "            summ = sess.run(merged_summary, feed_dict=feed_dict_train)\n",
    "            writer.add_summary(summ, epoch*int(len(data.train.labels)/batch_size) + batch)\n",
    "            \n",
    "          \n",
    "        train_accuracy /= int(len(data.train.labels)/batch_size)\n",
    "        \n",
    "        # Generate summary and validate the model on the entire validation set\n",
    "#         summ, vali_accuracy = sess.run([merged_summary, accuracy], feed_dict={x:data.validation.images, y_true:data.validation.labels})\n",
    "#         writer1.add_summary(summ, epoch)\n",
    "        summ, testing_accuracy = sess.run([merged_summary, accuracy], feed_dict={x:data.test.images, y_true:data.test.labels})\n",
    "        writer1.add_summary(summ, epoch)\n",
    "        \n",
    "\n",
    "        end_time = time.time()\n",
    "        \n",
    "        # Save checkpoint of the model\n",
    "        checkpoint_name = os.path.join(\"Checkpoints/\", 'model_epoch'+str(epoch+1)+'.ckpt')\n",
    "        save_path = tf.train.Saver().save(sess, checkpoint_name)  \n",
    "        \n",
    "        #print(\"Steps \"+str(epoch+1)+\",Training Accuracy:\\t{}\".format(train_accuracy))\n",
    "        #print(str(epoch)+\" \"+str(num_epochs))\n",
    "        if(epoch == num_epochs-1):\n",
    "            print(\"Testing Accuracy:\\t{}\".format(testing_accuracy))\n",
    "        \n",
    "        #print(\"Epoch \"+str(epoch+1)+\" completed : Time usage \"+str(int(end_time-start_time))+\" seconds\")\n",
    "        #print(\"\\tAccuracy:\")\n",
    "        #print (\"\\t- Training Accuracy:\\t{}\".format(train_accuracy))\n",
    "        #print (\"\\t- Validation Accuracy:\\t{}\".format(vali_accuracy))"
   ]
  },
  {
   "cell_type": "code",
   "execution_count": null,
   "metadata": {},
   "outputs": [],
   "source": [
    "\n",
    "# Restore variables weight and calculate accuracy on the batch of validation data \n",
    "with tf.Session() as sess:\n",
    "    \n",
    "    # Restore the pretrained weights\n",
    "    tf.train.Saver().restore(sess, \"Checkpoints/model_epoch100.ckpt\")\n",
    "    \n",
    "    # Feed Dictionary\n",
    "    feed_dict={x:data.validation.images[78:90], y_true:data.validation.labels[78:90]}\n",
    "    \n",
    "    # Make the Predictions on the batch of validaton data\n",
    "    prediction_labels = sess.run(y_pred_cls, feed_dict=feed_dict)"
   ]
  },
  {
   "cell_type": "code",
   "execution_count": null,
   "metadata": {},
   "outputs": [],
   "source": [
    "\n",
    "# Visualize classification using OpenCV\n",
    "for i, image in enumerate(feed_dict[x]):\n",
    "    image = np.array(image).reshape(28,28)\n",
    "    height, width = image.shape[:2]\n",
    "    image  = cv2.resize(image, (width*10, height*10), interpolation = cv2.INTER_CUBIC)\n",
    "    \n",
    "    cv2.putText(image, \"True class: \"+ str(np.argmax(feed_dict[y_true], axis=1)[i]), (20,30) , cv2.FONT_HERSHEY_SIMPLEX, .5, 1)\n",
    "    cv2.putText(image, \"Predict class: \"+str(prediction_labels[i]),                  (140,30), cv2.FONT_HERSHEY_SIMPLEX, .5, 1)\n",
    "    \n",
    "    cv2.imshow(\"Images\",image)\n",
    "    cv2.waitKey(3000)\n",
    "cv2.destroyAllWindows()"
   ]
  },
  {
   "cell_type": "code",
   "execution_count": null,
   "metadata": {},
   "outputs": [],
   "source": []
  }
 ],
 "metadata": {
  "kernelspec": {
   "display_name": "Python 3",
   "language": "python",
   "name": "python3"
  },
  "language_info": {
   "codemirror_mode": {
    "name": "ipython",
    "version": 3
   },
   "file_extension": ".py",
   "mimetype": "text/x-python",
   "name": "python",
   "nbconvert_exporter": "python",
   "pygments_lexer": "ipython3",
   "version": "3.7.2"
  }
 },
 "nbformat": 4,
 "nbformat_minor": 2
}
